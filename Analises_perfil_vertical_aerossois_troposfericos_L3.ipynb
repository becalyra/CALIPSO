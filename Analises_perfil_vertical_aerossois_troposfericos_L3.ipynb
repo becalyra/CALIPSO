{
 "cells": [
  {
   "cell_type": "code",
   "execution_count": 1,
   "id": "9324f4f5",
   "metadata": {},
   "outputs": [],
   "source": [
    "import os\n",
    "from pyhdf.SD import SD, SDC\n",
    "import pandas as pd\n",
    "import json\n",
    "from processamento_dados import (selecao_area,\n",
    "                                 controle_qualidade, porcentagem_valida,\n",
    "                                 calc_media_espacial,\n",
    "                                 calc_media_sazonal_1d, calc_media_sazonal_2d,\n",
    "                                 calc_media_sazonal_anual_1d, calc_media_sazonal_anual_2d,\n",
    "                                 convert_dicionario_1d_dataframe, convert_dicionario_2d_dataframe,\n",
    "                                 preenchendo_dados,  calc_soma_deteccoes_coluna)\n",
    "from plot_graficos import (plot_media_deteccoes_1d, plot_deteccoes_sazonais_2d, plot_coeficiente_extincao,\n",
    "                           plot_multiplo_perfil_deteccao, plots_multiplos_perfil_ce_eoa,\n",
    "                           plot_media_movel_deteccoes_eoa, plot_media_movel_deteccoes_2d)\n"
   ]
  },
  {
   "cell_type": "code",
   "execution_count": 2,
   "id": "c82ec3f7",
   "metadata": {},
   "outputs": [],
   "source": [
    "# Abrindo arquivo com informações necessárias para o código\n",
    "with open(\"info.json\",'r') as f:\n",
    "    info = json.load(f)\n",
    "    f.close()"
   ]
  },
  {
   "cell_type": "code",
   "execution_count": null,
   "id": "e26f1732",
   "metadata": {},
   "outputs": [],
   "source": [
    "# Variável contendo informações do produto de perfil de aerossóis troposféricos\n",
    "info_produto = info['Produtos']['Tropospheric_Aerosol_Profile']\n",
    "\n",
    "files = [f.path for f in os.scandir(info_produto['Diretório'])]\n",
    "\n",
    "niveis_altitude = SD(files[0], SDC.READ).select('Altitude_Midpoint').get()[0]\n",
    "perfil_media_sazonal_anual = {}\n",
    "perfil_media_sazonal = {}\n",
    "dados = {}\n",
    "for area, info_area in list(info['Áreas_estudo'].items()):\n",
    "    # Cria um dicionário vazio para cada área\n",
    "    perfil_media_sazonal_anual[area] = {}\n",
    "    perfil_media_sazonal[area] = {}\n",
    "    dados[area] = {}\n",
    "    for variavel, info_variavel in info_produto[\"Variáveis\"].items():\n",
    "        # Cria uma chave no dicionário para cada variável\n",
    "        dados[area][variavel] = {}\n",
    "        coordenadas = info_area['Coordenadas']\n",
    "        for file in files:\n",
    "            dado = SD(file, SDC.READ)\n",
    "            # Abre cada arquivo listado\n",
    "            # Seleciona dados de cada variável fazendo corte de área\n",
    "            dado = selecao_area(dado, coordenadas, variavel)\n",
    "            dado = controle_qualidade(dado, info_variavel['Limites_detecção'])\n",
    "            # Adicionar mês ao dicionário apenas quando 80% dos dados passam no CQ\n",
    "            if porcentagem_valida(dado) >= 0.8:\n",
    "                dados[area][variavel][file[-12:-5]] = calc_media_espacial(dado)\n",
    "\n",
    "        if variavel == 'Aerosol_Type':\n",
    "            # Transforma array contendo classificação dos aerossóis em dataframe com colunas correspondendo a cada tipo de aerossol\n",
    "            dados[area][variavel] = convert_dicionario_2d_dataframe(dados[area][variavel], info_variavel)\n",
    "            # Salvando df com médias sazonais para cada ano e tipo de aerossol na chave da variável de detecção de aerossóis por tipo\n",
    "            perfil_media_sazonal_anual[area][variavel] = calc_media_sazonal_anual_2d(dados[area][variavel])\n",
    "            perfil_media_sazonal[area][variavel] = calc_media_sazonal_2d(perfil_media_sazonal_anual[area][variavel])\n",
    "        else:\n",
    "            # Salvando df com as médias sazonais para cada ano de cada variável de perfil único na chave da variável\n",
    "            perfil_media_sazonal_anual[area][variavel] = calc_media_sazonal_anual_1d(dados[area][variavel])\n",
    "            # Salvando df com as médias sazonais do período para cada variável de perfil único na chave da variável\n",
    "            perfil_media_sazonal[area][variavel] = calc_media_sazonal_1d(perfil_media_sazonal_anual[area][variavel])\n",
    "        \n",
    "        if 'Ext' not in variavel:\n",
    "            # Calcula a soma das detecções para a coluna\n",
    "            dados[area][variavel] = calc_soma_deteccoes_coluna(dados[area][variavel])\n",
    "            # Tranformando dicionário em df\n",
    "            dados[area][variavel] = convert_dicionario_1d_dataframe(dados[area][variavel])\n",
    "            dados[area][variavel] = preenchendo_dados(dados[area][variavel])\n",
    "\n",
    "    dados[area]['AOD'] = pd.concat({variavel: valor for variavel, valor in dados[area].items() if 'AOD' in variavel}, axis=1).droplevel(1, axis=1)\n"
   ]
  },
  {
   "cell_type": "code",
   "execution_count": null,
   "id": "5f942670",
   "metadata": {},
   "outputs": [],
   "source": [
    "# Plots multiplas áreas\n",
    "info_variaveis = info['Produtos']['Tropospheric_Aerosol_Profile']['Variáveis']\n",
    "plots_multiplos_perfil_ce_eoa(perfil_media_sazonal, info_variaveis, niveis_altitude)\n",
    "plot_multiplo_perfil_deteccao(perfil_media_sazonal, info_variaveis['Samples_Aerosol_Detected_Accepted'], niveis_altitude)"
   ]
  },
  {
   "cell_type": "code",
   "execution_count": null,
   "id": "0c87d2ac",
   "metadata": {},
   "outputs": [],
   "source": [
    "# Plots individuais por área\n",
    "for area in dados.keys():\n",
    "    plot_media_deteccoes_1d(perfil_media_sazonal[area]['Samples_Aerosol_Detected_Accepted'].copy().T, niveis_altitude, area)\n",
    "    informacoes_variaveis = info['Produtos']['Tropospheric_Aerosol_Profile']['Variáveis']\n",
    "    plot_deteccoes_sazonais_2d(perfil_media_sazonal[area]['Aerosol_Type'].copy().T, niveis_altitude, area, informacoes_variaveis['Aerosol_Type'])\n",
    "    plot_coeficiente_extincao(perfil_media_sazonal[area].copy(), informacoes_variaveis, niveis_altitude, area)   \n",
    "    plot_media_movel_deteccoes_eoa(dados[area][\"Samples_Aerosol_Detected_Accepted\"].copy(), dados[area][\"AOD_Mean\"].copy(), area)\n",
    "    plot_media_movel_deteccoes_2d(dados[area]['Aerosol_Type'].copy(), info_variavel, area)\n"
   ]
  }
 ],
 "metadata": {
  "kernelspec": {
   "display_name": "Python 3.8.10 64-bit",
   "language": "python",
   "name": "python3"
  },
  "language_info": {
   "codemirror_mode": {
    "name": "ipython",
    "version": 3
   },
   "file_extension": ".py",
   "mimetype": "text/x-python",
   "name": "python",
   "nbconvert_exporter": "python",
   "pygments_lexer": "ipython3",
   "version": "3.10.4"
  },
  "vscode": {
   "interpreter": {
    "hash": "e7370f93d1d0cde622a1f8e1c04877d8463912d04d973331ad4851f04de6915a"
   }
  }
 },
 "nbformat": 4,
 "nbformat_minor": 5
}
